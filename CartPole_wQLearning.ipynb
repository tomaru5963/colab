{
  "nbformat": 4,
  "nbformat_minor": 0,
  "metadata": {
    "colab": {
      "name": "CartPole_wQLearning.ipynb",
      "version": "0.3.2",
      "provenance": [],
      "collapsed_sections": [],
      "include_colab_link": true
    },
    "kernelspec": {
      "name": "python3",
      "display_name": "Python 3"
    },
    "accelerator": "GPU"
  },
  "cells": [
    {
      "cell_type": "markdown",
      "metadata": {
        "id": "view-in-github",
        "colab_type": "text"
      },
      "source": [
        "<a href=\"https://colab.research.google.com/github/tomaru5963/colab/blob/master/CartPole_wQLearning.ipynb\" target=\"_parent\"><img src=\"https://colab.research.google.com/assets/colab-badge.svg\" alt=\"Open In Colab\"/></a>"
      ]
    },
    {
      "metadata": {
        "id": "5eqReSIoa7Nd",
        "colab_type": "code",
        "outputId": "c62c9a6e-5f04-4e24-c7c1-ad350784ef89",
        "colab": {
          "base_uri": "https://localhost:8080/",
          "height": 177
        }
      },
      "cell_type": "code",
      "source": [
        "!pip install sym"
      ],
      "execution_count": 0,
      "outputs": [
        {
          "output_type": "stream",
          "text": [
            "Collecting sym\n",
            "  Downloading https://files.pythonhosted.org/packages/f5/07/cc80b30b933c7430597fc884305c499e973f2e4c0a3a6208880ced5cefba/sym-0.3.4.tar.gz\n",
            "Requirement already satisfied: numpy in /usr/local/lib/python3.6/dist-packages (from sym) (1.16.2)\n",
            "Building wheels for collected packages: sym\n",
            "  Building wheel for sym (setup.py) ... \u001b[?25ldone\n",
            "\u001b[?25h  Stored in directory: /root/.cache/pip/wheels/54/29/cb/99f5eaa94bbaac78e725b1dadae048b551808ce9a15317482a\n",
            "Successfully built sym\n",
            "Installing collected packages: sym\n",
            "Successfully installed sym-0.3.4\n"
          ],
          "name": "stdout"
        }
      ]
    },
    {
      "metadata": {
        "id": "SG40H2KAbv4B",
        "colab_type": "code",
        "outputId": "e979ddc4-671f-4a5b-a84c-e19049a60232",
        "colab": {
          "base_uri": "https://localhost:8080/",
          "height": 460
        }
      },
      "cell_type": "code",
      "source": [
        "import collections\n",
        "\n",
        "import numpy as np\n",
        "import pandas as pd\n",
        "import gym\n",
        "\n",
        "NUM_EPISODES = 10000\n",
        "RESOLUTION = 10\n",
        "ALPHA = 0.1\n",
        "# GAMMA = 0.5\n",
        "GAMMA = 0.9\n",
        "EPSILON = 0.001\n",
        "\n",
        "class QLearning(object):\n",
        "    def __init__(self, env):\n",
        "        shape = [RESOLUTION] * env.observation_space.shape[0]\n",
        "        shape.append(env.action_space.n)\n",
        "        self.num_actions = env.action_space.n\n",
        "        self.q_table = np.zeros(shape)\n",
        "        # self.q_table = np.random.random_sample(shape)\n",
        "\n",
        "        self.bins = []\n",
        "        for l, h in zip(env.observation_space.low, env.observation_space.high):\n",
        "            self.bins.append(np.linspace(l, h, RESOLUTION + 1)[1:-1])\n",
        "\n",
        "        self.last_action_inds = None\n",
        "\n",
        "    def digitize(self, observation):\n",
        "        inds = []\n",
        "        for v, a in zip(observation, self.bins):\n",
        "            inds.append(np.searchsorted(a, v))\n",
        "        return tuple(inds)\n",
        "\n",
        "    def get_action(self, observation, reward, done):\n",
        "        inds = self.digitize(observation)\n",
        "        if np.random.random() < EPSILON:\n",
        "            action = np.random.randint(self.num_actions)\n",
        "        else:\n",
        "            action = self.q_table[inds].argmax()\n",
        "        # print(observation, reward, done)\n",
        "        if self.last_action_inds:\n",
        "            self.q_table[self.last_action_inds] = (\n",
        "                (1 - ALPHA) * self.q_table[self.last_action_inds] +\n",
        "                ALPHA * (reward + GAMMA * self.q_table[inds].max()))\n",
        "        if done:\n",
        "            self.last_action_inds = None\n",
        "        else:\n",
        "            inds = list(inds)\n",
        "            inds.append(action)\n",
        "            self.last_action_inds = tuple(inds)\n",
        "        return action\n",
        "\n",
        "rewards = collections.deque([0], 200)\n",
        "avgs = []\n",
        "over195s = 0\n",
        "env = gym.make('CartPole-v0')\n",
        "q_learning = QLearning(env)\n",
        "\n",
        "for episode in range(1, NUM_EPISODES + 1):\n",
        "    rewards.append(0)\n",
        "    observation = env.reset()\n",
        "    action = q_learning.get_action(observation, None, None)\n",
        "\n",
        "    for step in range(1, 201):\n",
        "        # action = env.action_space.sample()\n",
        "        # env.render()\n",
        "        observation, reward, done, _ = env.step(action)\n",
        "        rewards[-1] += reward\n",
        "        \n",
        "        if step >= 195:\n",
        "            reward = 1\n",
        "        elif done:\n",
        "            reward = -1\n",
        "        else:\n",
        "            reward = 0\n",
        "        action = q_learning.get_action(observation, reward, done)\n",
        "\n",
        "        if done:\n",
        "            break\n",
        "    avgs.append(sum(rewards) / rewards.maxlen)\n",
        "    if avgs[-1] >= 195:\n",
        "        over195s += 1\n",
        "        if over195s > 100:\n",
        "            print(f'Greater than or equal to 195 avg at episode {episode}')\n",
        "            break\n",
        "    else:\n",
        "        over195s = 0\n",
        "\n",
        "    if episode % 1000 == 0:\n",
        "        print(f'{episode}, ave={avgs[-1]}')\n",
        "    elif episode % 100 == 0:\n",
        "        print('.', end='')\n",
        "\n",
        "pd.Series(avgs).plot()\n",
        "# print(q_learning.q_table)"
      ],
      "execution_count": 0,
      "outputs": [
        {
          "output_type": "stream",
          "text": [
            ".........1000, ave=173.4\n",
            ".........2000, ave=170.66\n",
            ".........3000, ave=189.24\n",
            ".........4000, ave=192.18\n",
            ".........5000, ave=189.485\n",
            ".........6000, ave=191.97\n",
            ".........7000, ave=190.36\n",
            ".........8000, ave=189.3\n",
            ".........9000, ave=189.86\n",
            ".........10000, ave=190.66\n"
          ],
          "name": "stdout"
        },
        {
          "output_type": "execute_result",
          "data": {
            "text/plain": [
              "<matplotlib.axes._subplots.AxesSubplot at 0x7ff608b90a90>"
            ]
          },
          "metadata": {
            "tags": []
          },
          "execution_count": 37
        },
        {
          "output_type": "display_data",
          "data": {
            "image/png": "[encoded data removed]",
            "text/plain": [
              "<Figure size 432x288 with 1 Axes>"
            ]
          },
          "metadata": {
            "tags": []
          }
        }
      ]
    }
  ]
}