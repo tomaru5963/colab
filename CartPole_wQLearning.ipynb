{
  "nbformat": 4,
  "nbformat_minor": 0,
  "metadata": {
    "colab": {
      "name": "CartPole_wQLearning.ipynb",
      "version": "0.3.2",
      "provenance": [],
      "collapsed_sections": [],
      "include_colab_link": true
    },
    "kernelspec": {
      "name": "python3",
      "display_name": "Python 3"
    },
    "accelerator": "GPU"
  },
  "cells": [
    {
      "cell_type": "markdown",
      "metadata": {
        "id": "view-in-github",
        "colab_type": "text"
      },
      "source": [
        "<a href=\"https://colab.research.google.com/github/tomaru5963/colab/blob/master/CartPole_wQLearning.ipynb\" target=\"_parent\"><img src=\"https://colab.research.google.com/assets/colab-badge.svg\" alt=\"Open In Colab\"/></a>"
      ]
    },
    {
      "metadata": {
        "id": "5eqReSIoa7Nd",
        "colab_type": "code",
        "outputId": "9944ab42-338c-4d9a-8c4d-b707b8078db4",
        "colab": {
          "base_uri": "https://localhost:8080/",
          "height": 208
        }
      },
      "cell_type": "code",
      "source": [
        "!pip install gym"
      ],
      "execution_count": 1,
      "outputs": [
        {
          "output_type": "stream",
          "text": [
            "Requirement already satisfied: gym in /usr/local/lib/python3.6/dist-packages (0.10.11)\n",
            "Requirement already satisfied: scipy in /usr/local/lib/python3.6/dist-packages (from gym) (1.2.1)\n",
            "Requirement already satisfied: numpy>=1.10.4 in /usr/local/lib/python3.6/dist-packages (from gym) (1.16.3)\n",
            "Requirement already satisfied: requests>=2.0 in /usr/local/lib/python3.6/dist-packages (from gym) (2.21.0)\n",
            "Requirement already satisfied: six in /usr/local/lib/python3.6/dist-packages (from gym) (1.12.0)\n",
            "Requirement already satisfied: pyglet>=1.2.0 in /usr/local/lib/python3.6/dist-packages (from gym) (1.3.2)\n",
            "Requirement already satisfied: chardet<3.1.0,>=3.0.2 in /usr/local/lib/python3.6/dist-packages (from requests>=2.0->gym) (3.0.4)\n",
            "Requirement already satisfied: idna<2.9,>=2.5 in /usr/local/lib/python3.6/dist-packages (from requests>=2.0->gym) (2.8)\n",
            "Requirement already satisfied: certifi>=2017.4.17 in /usr/local/lib/python3.6/dist-packages (from requests>=2.0->gym) (2019.3.9)\n",
            "Requirement already satisfied: urllib3<1.25,>=1.21.1 in /usr/local/lib/python3.6/dist-packages (from requests>=2.0->gym) (1.24.2)\n",
            "Requirement already satisfied: future in /usr/local/lib/python3.6/dist-packages (from pyglet>=1.2.0->gym) (0.16.0)\n"
          ],
          "name": "stdout"
        }
      ]
    },
    {
      "metadata": {
        "id": "SG40H2KAbv4B",
        "colab_type": "code",
        "outputId": "535b5c3d-e243-4f33-afde-e747cb4d1227",
        "colab": {
          "base_uri": "https://localhost:8080/",
          "height": 460
        }
      },
      "cell_type": "code",
      "source": [
        "import collections\n",
        "\n",
        "import numpy as np\n",
        "import pandas as pd\n",
        "import gym\n",
        "\n",
        "NUM_EPISODES = 10000\n",
        "RESOLUTION = 10\n",
        "ALPHA = 0.1\n",
        "GAMMA = 0.5\n",
        "# GAMMA = 0.9\n",
        "EPSILON = 0.0001\n",
        "\n",
        "class QLearning(object):\n",
        "    def __init__(self, env):\n",
        "        shape = [RESOLUTION] * env.observation_space.shape[0]\n",
        "        shape.append(env.action_space.n)\n",
        "        self.num_actions = env.action_space.n\n",
        "        self.q_table = np.zeros(shape)\n",
        "        # self.q_table = np.random.random_sample(shape)\n",
        "\n",
        "        self.bins = []\n",
        "        for l, h in zip(env.observation_space.low, env.observation_space.high):\n",
        "            self.bins.append(np.linspace(l, h, RESOLUTION + 1)[1:-1])\n",
        "\n",
        "        self.last_action_inds = None\n",
        "\n",
        "    def digitize(self, observation):\n",
        "        inds = []\n",
        "        for v, a in zip(observation, self.bins):\n",
        "            inds.append(np.searchsorted(a, v))\n",
        "        return tuple(inds)\n",
        "\n",
        "    def get_action(self, observation, reward, done):\n",
        "        inds = self.digitize(observation)\n",
        "        if np.random.random() < EPSILON:\n",
        "            action = np.random.randint(self.num_actions)\n",
        "        else:\n",
        "            action = self.q_table[inds].argmax()\n",
        "        # print(observation, reward, done)\n",
        "        if self.last_action_inds:\n",
        "            self.q_table[self.last_action_inds] = (\n",
        "                (1 - ALPHA) * self.q_table[self.last_action_inds] +\n",
        "                ALPHA * (reward + GAMMA * self.q_table[inds].max()))\n",
        "        if done:\n",
        "            self.last_action_inds = None\n",
        "        else:\n",
        "            inds = list(inds)\n",
        "            inds.append(action)\n",
        "            self.last_action_inds = tuple(inds)\n",
        "        return action\n",
        "\n",
        "rewards = collections.deque([0], 200)\n",
        "avgs = []\n",
        "over195s = 0\n",
        "env = gym.make('CartPole-v0')\n",
        "q_learning = QLearning(env)\n",
        "\n",
        "for episode in range(1, NUM_EPISODES + 1):\n",
        "    rewards.append(0)\n",
        "    observation = env.reset()\n",
        "    action = q_learning.get_action(observation, None, None)\n",
        "\n",
        "    for step in range(1, 201):\n",
        "        # action = env.action_space.sample()\n",
        "        # env.render()\n",
        "        observation, reward, done, _ = env.step(action)\n",
        "        rewards[-1] += reward\n",
        "        \n",
        "        if step >= 195:\n",
        "            reward = 1\n",
        "        elif done:\n",
        "            reward = -1\n",
        "        else:\n",
        "            reward = 0\n",
        "        action = q_learning.get_action(observation, reward, done)\n",
        "\n",
        "        if done:\n",
        "            break\n",
        "    avgs.append(sum(rewards) / rewards.maxlen)\n",
        "    if avgs[-1] >= 195:\n",
        "        over195s += 1\n",
        "        if over195s > 100:\n",
        "            print(f'Greater than or equal to 195 avg at episode {episode}')\n",
        "            break\n",
        "    else:\n",
        "        over195s = 0\n",
        "\n",
        "    if episode % 1000 == 0:\n",
        "        print(f'{episode}, ave={avgs[-1]}')\n",
        "    elif episode % 100 == 0:\n",
        "        print('.', end='')\n",
        "\n",
        "pd.Series(avgs).plot()\n",
        "# print(q_learning.q_table)"
      ],
      "execution_count": 4,
      "outputs": [
        {
          "output_type": "stream",
          "text": [
            ".........1000, ave=183.915\n",
            ".........2000, ave=183.23\n",
            ".........3000, ave=185.51\n",
            ".........4000, ave=187.47\n",
            ".........5000, ave=189.265\n",
            ".........6000, ave=187.485\n",
            ".........7000, ave=184.615\n",
            ".........8000, ave=188.525\n",
            ".........9000, ave=179.225\n",
            ".........10000, ave=183.925\n"
          ],
          "name": "stdout"
        },
        {
          "output_type": "execute_result",
          "data": {
            "text/plain": [
              "<matplotlib.axes._subplots.AxesSubplot at 0x7f9a84371da0>"
            ]
          },
          "metadata": {
            "tags": []
          },
          "execution_count": 4
        },
        {
          "output_type": "display_data",
          "data": {
            "image/png": "[encoded data removed]",
            "text/plain": [
              "<Figure size 432x288 with 1 Axes>"
            ]
          },
          "metadata": {
            "tags": []
          }
        }
      ]
    }
  ]
}