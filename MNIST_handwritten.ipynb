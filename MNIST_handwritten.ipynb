{
  "nbformat": 4,
  "nbformat_minor": 0,
  "metadata": {
    "colab": {
      "name": "MNIST_handwritten.ipynb",
      "version": "0.3.2",
      "provenance": [],
      "collapsed_sections": [],
      "include_colab_link": true
    },
    "kernelspec": {
      "name": "python3",
      "display_name": "Python 3"
    },
    "accelerator": "GPU"
  },
  "cells": [
    {
      "cell_type": "markdown",
      "metadata": {
        "id": "view-in-github",
        "colab_type": "text"
      },
      "source": [
        "<a href=\"https://colab.research.google.com/github/tomaru5963/colab/blob/master/MNIST_handwritten.ipynb\" target=\"_parent\"><img src=\"https://colab.research.google.com/assets/colab-badge.svg\" alt=\"Open In Colab\"/></a>"
      ]
    },
    {
      "cell_type": "code",
      "metadata": {
        "id": "70uVDgPlOrpq",
        "colab_type": "code",
        "colab": {
          "base_uri": "https://localhost:8080/",
          "height": 1189
        },
        "outputId": "84c35a15-85d5-4775-d885-499eabff6dac"
      },
      "source": [
        "import matplotlib.pyplot as plt\n",
        "import pandas as pd\n",
        "from tensorflow.python import keras\n",
        "from tensorflow.python.keras.datasets import mnist\n",
        "from tensorflow.python.keras.initializers import RandomNormal\n",
        "from tensorflow.python.keras.layers import Dense\n",
        "from tensorflow.python.keras.models import Sequential\n",
        "from tensorflow.python.keras.optimizers import SGD\n",
        "\n",
        "BATCH_SIZE = 100\n",
        "NUM_EPOCHS = 20\n",
        "\n",
        "(x_train, y_train), (x_test, y_test) = mnist.load_data()\n",
        "x_train = x_train.reshape(60000, 784)\n",
        "x_test = x_test.reshape(10000, 784)\n",
        "x_train = x_train.astype('float32')\n",
        "x_test = x_test.astype('float32')\n",
        "x_train /= 255\n",
        "x_test /= 255\n",
        "y_train = keras.utils.to_categorical(y_train, 10)\n",
        "y_test = keras.utils.to_categorical(y_test, 10)\n",
        "\n",
        "model = Sequential()\n",
        "model.add(Dense(50, activation='sigmoid', input_shape=(784,),\n",
        "                kernel_initializer=RandomNormal(stddev=0.01),\n",
        "                bias_initializer='zeros'))\n",
        "model.add(Dense(10, activation='softmax',\n",
        "                kernel_initializer=RandomNormal(stddev=0.01),\n",
        "                bias_initializer='zeros'))\n",
        "model.summary()\n",
        "model.compile(loss='categorical_crossentropy',\n",
        "              optimizer=SGD(lr=0.1),\n",
        "              metrics=['accuracy'])\n",
        "history = model.fit(x_train, y_train,\n",
        "                    batch_size=BATCH_SIZE,\n",
        "                    epochs=NUM_EPOCHS,\n",
        "                    verbose=1,\n",
        "                    validation_data=(x_test, y_test))\n",
        "\n",
        "\n",
        "# history.history\n",
        "fig = plt.figure()\n",
        "ax1 = fig.add_subplot(2, 1, 1)\n",
        "ax2 = fig.add_subplot(2, 1, 2)\n",
        "pd.Series(history.history['loss']).plot(ax=ax1)\n",
        "pd.DataFrame(zip(history.history['acc'], history.history['val_acc']),\n",
        "             columns=('acc', 'val_acc')).plot(ax=ax2)\n"
      ],
      "execution_count": 31,
      "outputs": [
        {
          "output_type": "stream",
          "text": [
            "_________________________________________________________________\n",
            "Layer (type)                 Output Shape              Param #   \n",
            "=================================================================\n",
            "dense_38 (Dense)             (None, 50)                39250     \n",
            "_________________________________________________________________\n",
            "dense_39 (Dense)             (None, 10)                510       \n",
            "=================================================================\n",
            "Total params: 39,760\n",
            "Trainable params: 39,760\n",
            "Non-trainable params: 0\n",
            "_________________________________________________________________\n",
            "Train on 60000 samples, validate on 10000 samples\n",
            "Epoch 1/20\n",
            "60000/60000 [==============================] - 2s 35us/sample - loss: 1.7056 - acc: 0.4657 - val_loss: 0.8640 - val_acc: 0.7733\n",
            "Epoch 2/20\n",
            "60000/60000 [==============================] - 2s 30us/sample - loss: 0.6279 - acc: 0.8378 - val_loss: 0.4688 - val_acc: 0.8795\n",
            "Epoch 3/20\n",
            "60000/60000 [==============================] - 2s 31us/sample - loss: 0.4261 - acc: 0.8874 - val_loss: 0.3671 - val_acc: 0.9010\n",
            "Epoch 4/20\n",
            "60000/60000 [==============================] - 2s 31us/sample - loss: 0.3566 - acc: 0.9016 - val_loss: 0.3216 - val_acc: 0.9108\n",
            "Epoch 5/20\n",
            "60000/60000 [==============================] - 2s 30us/sample - loss: 0.3206 - acc: 0.9098 - val_loss: 0.2970 - val_acc: 0.9150\n",
            "Epoch 6/20\n",
            "60000/60000 [==============================] - 2s 31us/sample - loss: 0.2970 - acc: 0.9155 - val_loss: 0.2788 - val_acc: 0.9199\n",
            "Epoch 7/20\n",
            "60000/60000 [==============================] - 2s 31us/sample - loss: 0.2791 - acc: 0.9200 - val_loss: 0.2650 - val_acc: 0.9246\n",
            "Epoch 8/20\n",
            "60000/60000 [==============================] - 2s 31us/sample - loss: 0.2644 - acc: 0.9246 - val_loss: 0.2542 - val_acc: 0.9266\n",
            "Epoch 9/20\n",
            "60000/60000 [==============================] - 2s 30us/sample - loss: 0.2518 - acc: 0.9279 - val_loss: 0.2427 - val_acc: 0.9294\n",
            "Epoch 10/20\n",
            "60000/60000 [==============================] - 2s 32us/sample - loss: 0.2408 - acc: 0.9306 - val_loss: 0.2336 - val_acc: 0.9311\n",
            "Epoch 11/20\n",
            "60000/60000 [==============================] - 2s 34us/sample - loss: 0.2309 - acc: 0.9334 - val_loss: 0.2254 - val_acc: 0.9341\n",
            "Epoch 12/20\n",
            "60000/60000 [==============================] - 2s 35us/sample - loss: 0.2221 - acc: 0.9365 - val_loss: 0.2182 - val_acc: 0.9357\n",
            "Epoch 13/20\n",
            "60000/60000 [==============================] - 2s 34us/sample - loss: 0.2139 - acc: 0.9388 - val_loss: 0.2121 - val_acc: 0.9377\n",
            "Epoch 14/20\n",
            "60000/60000 [==============================] - 2s 34us/sample - loss: 0.2068 - acc: 0.9410 - val_loss: 0.2050 - val_acc: 0.9395\n",
            "Epoch 15/20\n",
            "60000/60000 [==============================] - 2s 32us/sample - loss: 0.1999 - acc: 0.9430 - val_loss: 0.1985 - val_acc: 0.9414\n",
            "Epoch 16/20\n",
            "60000/60000 [==============================] - 2s 31us/sample - loss: 0.1933 - acc: 0.9449 - val_loss: 0.1956 - val_acc: 0.9410\n",
            "Epoch 17/20\n",
            "60000/60000 [==============================] - 2s 31us/sample - loss: 0.1877 - acc: 0.9463 - val_loss: 0.1881 - val_acc: 0.9441\n",
            "Epoch 18/20\n",
            "60000/60000 [==============================] - 2s 31us/sample - loss: 0.1821 - acc: 0.9480 - val_loss: 0.1832 - val_acc: 0.9483\n",
            "Epoch 19/20\n",
            "60000/60000 [==============================] - 2s 31us/sample - loss: 0.1770 - acc: 0.9498 - val_loss: 0.1780 - val_acc: 0.9485\n",
            "Epoch 20/20\n",
            "60000/60000 [==============================] - 2s 30us/sample - loss: 0.1721 - acc: 0.9515 - val_loss: 0.1742 - val_acc: 0.9487\n"
          ],
          "name": "stdout"
        },
        {
          "output_type": "execute_result",
          "data": {
            "text/plain": [
              "<matplotlib.axes._subplots.AxesSubplot at 0x7f4c31bf56a0>"
            ]
          },
          "metadata": {
            "tags": []
          },
          "execution_count": 31
        },
        {
          "output_type": "display_data",
          "data": {
            "image/png": "[encoded data removed]",
            "text/plain": [
              "<Figure size 432x288 with 2 Axes>"
            ]
          },
          "metadata": {
            "tags": []
          }
        }
      ]
    }
  ]
}