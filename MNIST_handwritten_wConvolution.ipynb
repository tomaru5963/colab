{
  "nbformat": 4,
  "nbformat_minor": 0,
  "metadata": {
    "colab": {
      "name": "MNIST_handwritten_wConvolution.ipynb",
      "version": "0.3.2",
      "provenance": [],
      "collapsed_sections": [],
      "include_colab_link": true
    },
    "kernelspec": {
      "name": "python3",
      "display_name": "Python 3"
    },
    "accelerator": "GPU"
  },
  "cells": [
    {
      "cell_type": "markdown",
      "metadata": {
        "id": "view-in-github",
        "colab_type": "text"
      },
      "source": [
        "<a href=\"https://colab.research.google.com/github/tomaru5963/colab/blob/master/MNIST_handwritten_wConvolution.ipynb\" target=\"_parent\"><img src=\"https://colab.research.google.com/assets/colab-badge.svg\" alt=\"Open In Colab\"/></a>"
      ]
    },
    {
      "cell_type": "code",
      "metadata": {
        "id": "70uVDgPlOrpq",
        "colab_type": "code",
        "outputId": "2517b347-0a82-4418-d9dd-68182ded575d",
        "colab": {
          "base_uri": "https://localhost:8080/",
          "height": 1331
        }
      },
      "source": [
        "import matplotlib.pyplot as plt\n",
        "import numpy as np\n",
        "# import pandas as pd\n",
        "from tensorflow.python import keras\n",
        "from tensorflow.python.keras.datasets import mnist\n",
        "from tensorflow.python.keras.initializers import RandomNormal\n",
        "from tensorflow.python.keras.layers import Conv2D, Dense, Flatten, MaxPooling2D\n",
        "from tensorflow.python.keras.models import Sequential\n",
        "from tensorflow.python.keras.optimizers import Adam\n",
        "\n",
        "BATCH_SIZE = 100\n",
        "NUM_EPOCHS = 20\n",
        "\n",
        "(x_train, y_train), (x_test, y_test) = mnist.load_data()\n",
        "x_train = x_train.reshape(60000, 28, 28, 1)\n",
        "x_test = x_test.reshape(10000, 28, 28, 1)\n",
        "x_train = x_train.astype('float32')\n",
        "x_test = x_test.astype('float32')\n",
        "x_train /= 255\n",
        "x_test /= 255\n",
        "y_train = keras.utils.to_categorical(y_train, 10)\n",
        "y_test = keras.utils.to_categorical(y_test, 10)\n",
        "\n",
        "model = Sequential()\n",
        "model.add(Conv2D(30, 5,\n",
        "                 strides=1, padding='valid',\n",
        "                 activation='relu', input_shape=(28, 28, 1),\n",
        "                 kernel_initializer=RandomNormal(stddev=0.01),\n",
        "                 bias_initializer='zeros'))\n",
        "model.add(MaxPooling2D(pool_size=(2, 2), strides=(2, 2)))\n",
        "model.add(Flatten())\n",
        "model.add(Dense(100, activation='relu',\n",
        "                kernel_initializer=RandomNormal(stddev=0.01),\n",
        "                bias_initializer='zeros'))\n",
        "model.add(Dense(10, activation='softmax',\n",
        "                kernel_initializer=RandomNormal(stddev=0.01),\n",
        "                bias_initializer='zeros'))\n",
        "model.summary()\n",
        "model.compile(loss='categorical_crossentropy',\n",
        "              optimizer=Adam(lr=0.001),\n",
        "              metrics=['accuracy'])\n",
        "history = model.fit(x_train, y_train,\n",
        "                    batch_size=BATCH_SIZE,\n",
        "                    epochs=NUM_EPOCHS,\n",
        "                    verbose=1,\n",
        "                    validation_data=(x_test, y_test))\n",
        "\n",
        "\n",
        "# history.history\n",
        "fig = plt.figure()\n",
        "ax1 = fig.add_subplot(2, 1, 1)\n",
        "ax2 = fig.add_subplot(2, 1, 2)\n",
        "# pd.Series(history.history['loss']).plot(ax=ax1)\n",
        "# pd.DataFrame(zip(history.history['acc'], history.history['val_acc']),\n",
        "#              columns=('acc', 'val_acc')).plot(ax=ax2)\n",
        "\n",
        "x = np.arange(NUM_EPOCHS)\n",
        "ax1.plot(x, history.history['loss'])\n",
        "ax1.set_ylabel('loss')\n",
        "ax1.set_ylim(0, 0.2)\n",
        "ax2.plot(x, history.history['acc'], label='train')\n",
        "ax2.plot(x, history.history['val_acc'], label='test')\n",
        "ax2.set_xlabel('epochs')\n",
        "ax2.set_ylabel('accuracy')\n",
        "ax2.set_ylim(0.8, 1.0)\n",
        "ax2.legend(loc='lower right')\n",
        "# plt.show()"
      ],
      "execution_count": 23,
      "outputs": [
        {
          "output_type": "stream",
          "text": [
            "_________________________________________________________________\n",
            "Layer (type)                 Output Shape              Param #   \n",
            "=================================================================\n",
            "conv2d_17 (Conv2D)           (None, 24, 24, 30)        780       \n",
            "_________________________________________________________________\n",
            "max_pooling2d_16 (MaxPooling (None, 12, 12, 30)        0         \n",
            "_________________________________________________________________\n",
            "flatten_13 (Flatten)         (None, 4320)              0         \n",
            "_________________________________________________________________\n",
            "dense_32 (Dense)             (None, 100)               432100    \n",
            "_________________________________________________________________\n",
            "dense_33 (Dense)             (None, 10)                1010      \n",
            "=================================================================\n",
            "Total params: 433,890\n",
            "Trainable params: 433,890\n",
            "Non-trainable params: 0\n",
            "_________________________________________________________________\n",
            "Train on 60000 samples, validate on 10000 samples\n",
            "Epoch 1/20\n",
            "60000/60000 [==============================] - 3s 51us/sample - loss: 0.3472 - acc: 0.9005 - val_loss: 0.1097 - val_acc: 0.9687\n",
            "Epoch 2/20\n",
            "60000/60000 [==============================] - 3s 44us/sample - loss: 0.0922 - acc: 0.9724 - val_loss: 0.0629 - val_acc: 0.9810\n",
            "Epoch 3/20\n",
            "60000/60000 [==============================] - 3s 44us/sample - loss: 0.0616 - acc: 0.9816 - val_loss: 0.0541 - val_acc: 0.9825\n",
            "Epoch 4/20\n",
            "60000/60000 [==============================] - 3s 44us/sample - loss: 0.0448 - acc: 0.9867 - val_loss: 0.0468 - val_acc: 0.9836\n",
            "Epoch 5/20\n",
            "60000/60000 [==============================] - 3s 44us/sample - loss: 0.0348 - acc: 0.9894 - val_loss: 0.0393 - val_acc: 0.9860\n",
            "Epoch 6/20\n",
            "60000/60000 [==============================] - 3s 44us/sample - loss: 0.0283 - acc: 0.9912 - val_loss: 0.0447 - val_acc: 0.9863\n",
            "Epoch 7/20\n",
            "60000/60000 [==============================] - 3s 44us/sample - loss: 0.0222 - acc: 0.9931 - val_loss: 0.0359 - val_acc: 0.9885\n",
            "Epoch 8/20\n",
            "60000/60000 [==============================] - 3s 44us/sample - loss: 0.0180 - acc: 0.9941 - val_loss: 0.0380 - val_acc: 0.9879\n",
            "Epoch 9/20\n",
            "60000/60000 [==============================] - 3s 43us/sample - loss: 0.0150 - acc: 0.9953 - val_loss: 0.0343 - val_acc: 0.9899\n",
            "Epoch 10/20\n",
            "60000/60000 [==============================] - 3s 44us/sample - loss: 0.0122 - acc: 0.9961 - val_loss: 0.0367 - val_acc: 0.9890\n",
            "Epoch 11/20\n",
            "60000/60000 [==============================] - 3s 46us/sample - loss: 0.0104 - acc: 0.9966 - val_loss: 0.0385 - val_acc: 0.9887\n",
            "Epoch 12/20\n",
            "60000/60000 [==============================] - 3s 50us/sample - loss: 0.0072 - acc: 0.9980 - val_loss: 0.0423 - val_acc: 0.9887\n",
            "Epoch 13/20\n",
            "60000/60000 [==============================] - 3s 50us/sample - loss: 0.0087 - acc: 0.9971 - val_loss: 0.0377 - val_acc: 0.9899\n",
            "Epoch 14/20\n",
            "60000/60000 [==============================] - 3s 49us/sample - loss: 0.0065 - acc: 0.9979 - val_loss: 0.0501 - val_acc: 0.9873\n",
            "Epoch 15/20\n",
            "60000/60000 [==============================] - 3s 44us/sample - loss: 0.0066 - acc: 0.9977 - val_loss: 0.0405 - val_acc: 0.9894\n",
            "Epoch 16/20\n",
            "60000/60000 [==============================] - 3s 44us/sample - loss: 0.0043 - acc: 0.9987 - val_loss: 0.0426 - val_acc: 0.9892\n",
            "Epoch 17/20\n",
            "60000/60000 [==============================] - 3s 44us/sample - loss: 0.0053 - acc: 0.9980 - val_loss: 0.0456 - val_acc: 0.9879\n",
            "Epoch 18/20\n",
            "60000/60000 [==============================] - 3s 43us/sample - loss: 0.0041 - acc: 0.9986 - val_loss: 0.0447 - val_acc: 0.9886\n",
            "Epoch 19/20\n",
            "60000/60000 [==============================] - 3s 43us/sample - loss: 0.0028 - acc: 0.9992 - val_loss: 0.0452 - val_acc: 0.9899\n",
            "Epoch 20/20\n",
            "60000/60000 [==============================] - 3s 44us/sample - loss: 0.0063 - acc: 0.9979 - val_loss: 0.0452 - val_acc: 0.9900\n"
          ],
          "name": "stdout"
        },
        {
          "output_type": "execute_result",
          "data": {
            "text/plain": [
              "<matplotlib.legend.Legend at 0x7f31644b1e10>"
            ]
          },
          "metadata": {
            "tags": []
          },
          "execution_count": 23
        },
        {
          "output_type": "display_data",
          "data": {
            "image/png": "[encoded data removed]",
            "text/plain": [
              "<Figure size 432x288 with 2 Axes>"
            ]
          },
          "metadata": {
            "tags": []
          }
        }
      ]
    }
  ]
}